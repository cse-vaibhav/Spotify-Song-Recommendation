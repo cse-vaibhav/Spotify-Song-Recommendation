{
 "cells": [
  {
   "cell_type": "code",
   "execution_count": 57,
   "id": "fb1d5f44-99e1-486d-9907-57c7017091a5",
   "metadata": {
    "tags": []
   },
   "outputs": [],
   "source": [
    "import pandas as pd\n",
    "import numpy as np\n",
    "import matplotlib.pyplot as plt\n",
    "%matplotlib inline\n",
    "\n",
    "from tqdm import tqdm\n",
    "\n",
    "from sklearn.metrics import silhouette_score, calinski_harabasz_score\n",
    "from sklearn.cluster import KMeans, AgglomerativeClustering, Birch\n",
    "from sklearn.pipeline import Pipeline\n",
    "from sklearn.compose import ColumnTransformer\n",
    "from sklearn.preprocessing import StandardScaler, OrdinalEncoder\n",
    "\n",
    "from sklearn.model_selection import GridSearchCV"
   ]
  },
  {
   "cell_type": "code",
   "execution_count": 2,
   "id": "29fa84e5-0e9d-4eb1-be24-95eecd2e25fe",
   "metadata": {
    "tags": []
   },
   "outputs": [
    {
     "data": {
      "text/plain": [
       "(603, 14)"
      ]
     },
     "execution_count": 2,
     "metadata": {},
     "output_type": "execute_result"
    }
   ],
   "source": [
    "df = pd.read_csv(\"../data/top10s_final.csv\", index_col=0)\n",
    "dtypes = df.dtypes\n",
    "numerical_cols = list(dtypes[dtypes != 'object'][1:].index)\n",
    "categorical_cols = list(dtypes[dtypes == \"object\"].index) + [\"year\"]\n",
    "df.shape"
   ]
  },
  {
   "cell_type": "code",
   "execution_count": 3,
   "id": "f8c256c2-4153-413e-863b-eae81fa10935",
   "metadata": {
    "tags": []
   },
   "outputs": [
    {
     "data": {
      "text/html": [
       "<div>\n",
       "<style scoped>\n",
       "    .dataframe tbody tr th:only-of-type {\n",
       "        vertical-align: middle;\n",
       "    }\n",
       "\n",
       "    .dataframe tbody tr th {\n",
       "        vertical-align: top;\n",
       "    }\n",
       "\n",
       "    .dataframe thead th {\n",
       "        text-align: right;\n",
       "    }\n",
       "</style>\n",
       "<table border=\"1\" class=\"dataframe\">\n",
       "  <thead>\n",
       "    <tr style=\"text-align: right;\">\n",
       "      <th></th>\n",
       "      <th>title</th>\n",
       "      <th>artist</th>\n",
       "      <th>genre</th>\n",
       "      <th>year</th>\n",
       "      <th>tempo</th>\n",
       "      <th>energy</th>\n",
       "      <th>danceability</th>\n",
       "      <th>loudness</th>\n",
       "      <th>liveness</th>\n",
       "      <th>valence</th>\n",
       "      <th>length</th>\n",
       "      <th>acousticness</th>\n",
       "      <th>speechiness</th>\n",
       "      <th>popularity</th>\n",
       "    </tr>\n",
       "  </thead>\n",
       "  <tbody>\n",
       "    <tr>\n",
       "      <th>1</th>\n",
       "      <td>Hey, Soul Sister</td>\n",
       "      <td>Train</td>\n",
       "      <td>neo mellow</td>\n",
       "      <td>2010</td>\n",
       "      <td>97</td>\n",
       "      <td>89</td>\n",
       "      <td>67</td>\n",
       "      <td>-4</td>\n",
       "      <td>8</td>\n",
       "      <td>80</td>\n",
       "      <td>217</td>\n",
       "      <td>19</td>\n",
       "      <td>4</td>\n",
       "      <td>83</td>\n",
       "    </tr>\n",
       "    <tr>\n",
       "      <th>2</th>\n",
       "      <td>Love The Way You Lie</td>\n",
       "      <td>Eminem</td>\n",
       "      <td>hip hop</td>\n",
       "      <td>2010</td>\n",
       "      <td>87</td>\n",
       "      <td>93</td>\n",
       "      <td>75</td>\n",
       "      <td>-5</td>\n",
       "      <td>52</td>\n",
       "      <td>64</td>\n",
       "      <td>263</td>\n",
       "      <td>24</td>\n",
       "      <td>23</td>\n",
       "      <td>82</td>\n",
       "    </tr>\n",
       "    <tr>\n",
       "      <th>3</th>\n",
       "      <td>TiK ToK</td>\n",
       "      <td>Kesha</td>\n",
       "      <td>pop</td>\n",
       "      <td>2010</td>\n",
       "      <td>120</td>\n",
       "      <td>84</td>\n",
       "      <td>76</td>\n",
       "      <td>-3</td>\n",
       "      <td>29</td>\n",
       "      <td>71</td>\n",
       "      <td>200</td>\n",
       "      <td>10</td>\n",
       "      <td>14</td>\n",
       "      <td>80</td>\n",
       "    </tr>\n",
       "    <tr>\n",
       "      <th>4</th>\n",
       "      <td>Bad Romance</td>\n",
       "      <td>Lady Gaga</td>\n",
       "      <td>pop</td>\n",
       "      <td>2010</td>\n",
       "      <td>119</td>\n",
       "      <td>92</td>\n",
       "      <td>70</td>\n",
       "      <td>-4</td>\n",
       "      <td>8</td>\n",
       "      <td>71</td>\n",
       "      <td>295</td>\n",
       "      <td>0</td>\n",
       "      <td>4</td>\n",
       "      <td>79</td>\n",
       "    </tr>\n",
       "    <tr>\n",
       "      <th>5</th>\n",
       "      <td>Just the Way You Are</td>\n",
       "      <td>Bruno Mars</td>\n",
       "      <td>pop</td>\n",
       "      <td>2010</td>\n",
       "      <td>109</td>\n",
       "      <td>84</td>\n",
       "      <td>64</td>\n",
       "      <td>-5</td>\n",
       "      <td>9</td>\n",
       "      <td>43</td>\n",
       "      <td>221</td>\n",
       "      <td>2</td>\n",
       "      <td>4</td>\n",
       "      <td>78</td>\n",
       "    </tr>\n",
       "  </tbody>\n",
       "</table>\n",
       "</div>"
      ],
      "text/plain": [
       "                  title      artist       genre  year  tempo  energy  \\\n",
       "1      Hey, Soul Sister       Train  neo mellow  2010     97      89   \n",
       "2  Love The Way You Lie      Eminem     hip hop  2010     87      93   \n",
       "3               TiK ToK       Kesha         pop  2010    120      84   \n",
       "4           Bad Romance   Lady Gaga         pop  2010    119      92   \n",
       "5  Just the Way You Are  Bruno Mars         pop  2010    109      84   \n",
       "\n",
       "   danceability  loudness  liveness  valence  length  acousticness  \\\n",
       "1            67        -4         8       80     217            19   \n",
       "2            75        -5        52       64     263            24   \n",
       "3            76        -3        29       71     200            10   \n",
       "4            70        -4         8       71     295             0   \n",
       "5            64        -5         9       43     221             2   \n",
       "\n",
       "   speechiness  popularity  \n",
       "1            4          83  \n",
       "2           23          82  \n",
       "3           14          80  \n",
       "4            4          79  \n",
       "5            4          78  "
      ]
     },
     "execution_count": 3,
     "metadata": {},
     "output_type": "execute_result"
    }
   ],
   "source": [
    "df.head()"
   ]
  },
  {
   "cell_type": "code",
   "execution_count": 4,
   "id": "63e1de5a-d24e-4025-9510-5db222499406",
   "metadata": {
    "tags": []
   },
   "outputs": [
    {
     "data": {
      "text/plain": [
       "788"
      ]
     },
     "execution_count": 4,
     "metadata": {},
     "output_type": "execute_result"
    }
   ],
   "source": [
    "len(df.title.unique()) + len(df.artist.unique()) + len(df.genre.unique())"
   ]
  },
  {
   "cell_type": "code",
   "execution_count": 5,
   "id": "7c7f0a76-0cf3-4c52-a5b6-d3ea04304b80",
   "metadata": {
    "tags": []
   },
   "outputs": [
    {
     "name": "stdout",
     "output_type": "stream",
     "text": [
      "<class 'pandas.core.frame.DataFrame'>\n",
      "Int64Index: 603 entries, 1 to 603\n",
      "Data columns (total 14 columns):\n",
      " #   Column        Non-Null Count  Dtype \n",
      "---  ------        --------------  ----- \n",
      " 0   title         603 non-null    object\n",
      " 1   artist        603 non-null    object\n",
      " 2   genre         603 non-null    object\n",
      " 3   year          603 non-null    int64 \n",
      " 4   tempo         603 non-null    int64 \n",
      " 5   energy        603 non-null    int64 \n",
      " 6   danceability  603 non-null    int64 \n",
      " 7   loudness      603 non-null    int64 \n",
      " 8   liveness      603 non-null    int64 \n",
      " 9   valence       603 non-null    int64 \n",
      " 10  length        603 non-null    int64 \n",
      " 11  acousticness  603 non-null    int64 \n",
      " 12  speechiness   603 non-null    int64 \n",
      " 13  popularity    603 non-null    int64 \n",
      "dtypes: int64(11), object(3)\n",
      "memory usage: 70.7+ KB\n"
     ]
    }
   ],
   "source": [
    "df.info()"
   ]
  },
  {
   "cell_type": "markdown",
   "id": "99bdb78e-06cf-477f-ab88-f70a9ed8451c",
   "metadata": {},
   "source": [
    "There will be additional **789** features after OneHotEncoding these three features"
   ]
  },
  {
   "cell_type": "code",
   "execution_count": 19,
   "id": "16f38999-f238-4c05-b4ed-d23cb2eb3727",
   "metadata": {
    "tags": []
   },
   "outputs": [
    {
     "data": {
      "text/html": [
       "<style>#sk-container-id-2 {color: black;background-color: white;}#sk-container-id-2 pre{padding: 0;}#sk-container-id-2 div.sk-toggleable {background-color: white;}#sk-container-id-2 label.sk-toggleable__label {cursor: pointer;display: block;width: 100%;margin-bottom: 0;padding: 0.3em;box-sizing: border-box;text-align: center;}#sk-container-id-2 label.sk-toggleable__label-arrow:before {content: \"▸\";float: left;margin-right: 0.25em;color: #696969;}#sk-container-id-2 label.sk-toggleable__label-arrow:hover:before {color: black;}#sk-container-id-2 div.sk-estimator:hover label.sk-toggleable__label-arrow:before {color: black;}#sk-container-id-2 div.sk-toggleable__content {max-height: 0;max-width: 0;overflow: hidden;text-align: left;background-color: #f0f8ff;}#sk-container-id-2 div.sk-toggleable__content pre {margin: 0.2em;color: black;border-radius: 0.25em;background-color: #f0f8ff;}#sk-container-id-2 input.sk-toggleable__control:checked~div.sk-toggleable__content {max-height: 200px;max-width: 100%;overflow: auto;}#sk-container-id-2 input.sk-toggleable__control:checked~label.sk-toggleable__label-arrow:before {content: \"▾\";}#sk-container-id-2 div.sk-estimator input.sk-toggleable__control:checked~label.sk-toggleable__label {background-color: #d4ebff;}#sk-container-id-2 div.sk-label input.sk-toggleable__control:checked~label.sk-toggleable__label {background-color: #d4ebff;}#sk-container-id-2 input.sk-hidden--visually {border: 0;clip: rect(1px 1px 1px 1px);clip: rect(1px, 1px, 1px, 1px);height: 1px;margin: -1px;overflow: hidden;padding: 0;position: absolute;width: 1px;}#sk-container-id-2 div.sk-estimator {font-family: monospace;background-color: #f0f8ff;border: 1px dotted black;border-radius: 0.25em;box-sizing: border-box;margin-bottom: 0.5em;}#sk-container-id-2 div.sk-estimator:hover {background-color: #d4ebff;}#sk-container-id-2 div.sk-parallel-item::after {content: \"\";width: 100%;border-bottom: 1px solid gray;flex-grow: 1;}#sk-container-id-2 div.sk-label:hover label.sk-toggleable__label {background-color: #d4ebff;}#sk-container-id-2 div.sk-serial::before {content: \"\";position: absolute;border-left: 1px solid gray;box-sizing: border-box;top: 0;bottom: 0;left: 50%;z-index: 0;}#sk-container-id-2 div.sk-serial {display: flex;flex-direction: column;align-items: center;background-color: white;padding-right: 0.2em;padding-left: 0.2em;position: relative;}#sk-container-id-2 div.sk-item {position: relative;z-index: 1;}#sk-container-id-2 div.sk-parallel {display: flex;align-items: stretch;justify-content: center;background-color: white;position: relative;}#sk-container-id-2 div.sk-item::before, #sk-container-id-2 div.sk-parallel-item::before {content: \"\";position: absolute;border-left: 1px solid gray;box-sizing: border-box;top: 0;bottom: 0;left: 50%;z-index: -1;}#sk-container-id-2 div.sk-parallel-item {display: flex;flex-direction: column;z-index: 1;position: relative;background-color: white;}#sk-container-id-2 div.sk-parallel-item:first-child::after {align-self: flex-end;width: 50%;}#sk-container-id-2 div.sk-parallel-item:last-child::after {align-self: flex-start;width: 50%;}#sk-container-id-2 div.sk-parallel-item:only-child::after {width: 0;}#sk-container-id-2 div.sk-dashed-wrapped {border: 1px dashed gray;margin: 0 0.4em 0.5em 0.4em;box-sizing: border-box;padding-bottom: 0.4em;background-color: white;}#sk-container-id-2 div.sk-label label {font-family: monospace;font-weight: bold;display: inline-block;line-height: 1.2em;}#sk-container-id-2 div.sk-label-container {text-align: center;}#sk-container-id-2 div.sk-container {/* jupyter's `normalize.less` sets `[hidden] { display: none; }` but bootstrap.min.css set `[hidden] { display: none !important; }` so we also need the `!important` here to be able to override the default hidden behavior on the sphinx rendered scikit-learn.org. See: https://github.com/scikit-learn/scikit-learn/issues/21755 */display: inline-block !important;position: relative;}#sk-container-id-2 div.sk-text-repr-fallback {display: none;}</style><div id=\"sk-container-id-2\" class=\"sk-top-container\"><div class=\"sk-text-repr-fallback\"><pre>ColumnTransformer(transformers=[(&#x27;scaler&#x27;, StandardScaler(),\n",
       "                                 [4, 5, 6, 7, 8, 9, 10, 11, 12, 13]),\n",
       "                                (&#x27;ordinal&#x27;,\n",
       "                                 OrdinalEncoder(categories=[array([2010, 2011, 2012, 2013, 2014, 2015, 2016, 2017, 2018, 2019])]),\n",
       "                                 [3])])</pre><b>In a Jupyter environment, please rerun this cell to show the HTML representation or trust the notebook. <br />On GitHub, the HTML representation is unable to render, please try loading this page with nbviewer.org.</b></div><div class=\"sk-container\" hidden><div class=\"sk-item sk-dashed-wrapped\"><div class=\"sk-label-container\"><div class=\"sk-label sk-toggleable\"><input class=\"sk-toggleable__control sk-hidden--visually\" id=\"sk-estimator-id-8\" type=\"checkbox\" ><label for=\"sk-estimator-id-8\" class=\"sk-toggleable__label sk-toggleable__label-arrow\">ColumnTransformer</label><div class=\"sk-toggleable__content\"><pre>ColumnTransformer(transformers=[(&#x27;scaler&#x27;, StandardScaler(),\n",
       "                                 [4, 5, 6, 7, 8, 9, 10, 11, 12, 13]),\n",
       "                                (&#x27;ordinal&#x27;,\n",
       "                                 OrdinalEncoder(categories=[array([2010, 2011, 2012, 2013, 2014, 2015, 2016, 2017, 2018, 2019])]),\n",
       "                                 [3])])</pre></div></div></div><div class=\"sk-parallel\"><div class=\"sk-parallel-item\"><div class=\"sk-item\"><div class=\"sk-label-container\"><div class=\"sk-label sk-toggleable\"><input class=\"sk-toggleable__control sk-hidden--visually\" id=\"sk-estimator-id-9\" type=\"checkbox\" ><label for=\"sk-estimator-id-9\" class=\"sk-toggleable__label sk-toggleable__label-arrow\">scaler</label><div class=\"sk-toggleable__content\"><pre>[4, 5, 6, 7, 8, 9, 10, 11, 12, 13]</pre></div></div></div><div class=\"sk-serial\"><div class=\"sk-item\"><div class=\"sk-estimator sk-toggleable\"><input class=\"sk-toggleable__control sk-hidden--visually\" id=\"sk-estimator-id-10\" type=\"checkbox\" ><label for=\"sk-estimator-id-10\" class=\"sk-toggleable__label sk-toggleable__label-arrow\">StandardScaler</label><div class=\"sk-toggleable__content\"><pre>StandardScaler()</pre></div></div></div></div></div></div><div class=\"sk-parallel-item\"><div class=\"sk-item\"><div class=\"sk-label-container\"><div class=\"sk-label sk-toggleable\"><input class=\"sk-toggleable__control sk-hidden--visually\" id=\"sk-estimator-id-11\" type=\"checkbox\" ><label for=\"sk-estimator-id-11\" class=\"sk-toggleable__label sk-toggleable__label-arrow\">ordinal</label><div class=\"sk-toggleable__content\"><pre>[3]</pre></div></div></div><div class=\"sk-serial\"><div class=\"sk-item\"><div class=\"sk-estimator sk-toggleable\"><input class=\"sk-toggleable__control sk-hidden--visually\" id=\"sk-estimator-id-12\" type=\"checkbox\" ><label for=\"sk-estimator-id-12\" class=\"sk-toggleable__label sk-toggleable__label-arrow\">OrdinalEncoder</label><div class=\"sk-toggleable__content\"><pre>OrdinalEncoder(categories=[array([2010, 2011, 2012, 2013, 2014, 2015, 2016, 2017, 2018, 2019])])</pre></div></div></div></div></div></div></div></div></div></div>"
      ],
      "text/plain": [
       "ColumnTransformer(transformers=[('scaler', StandardScaler(),\n",
       "                                 [4, 5, 6, 7, 8, 9, 10, 11, 12, 13]),\n",
       "                                ('ordinal',\n",
       "                                 OrdinalEncoder(categories=[array([2010, 2011, 2012, 2013, 2014, 2015, 2016, 2017, 2018, 2019])]),\n",
       "                                 [3])])"
      ]
     },
     "execution_count": 19,
     "metadata": {},
     "output_type": "execute_result"
    }
   ],
   "source": [
    "sorted_years = df.year.sort_values().unique()\n",
    "preprocessor = ColumnTransformer([\n",
    "    (\"scaler\", StandardScaler(), list(range(4, 14))),\n",
    "    (\"ordinal\", OrdinalEncoder(categories=[sorted_years]), [3])\n",
    "], remainder=\"drop\")\n",
    "preprocessor.fit(df.values)"
   ]
  },
  {
   "cell_type": "code",
   "execution_count": 20,
   "id": "8ead777b-f96b-4b8e-a754-a49f90372ea1",
   "metadata": {
    "tags": []
   },
   "outputs": [
    {
     "data": {
      "text/plain": [
       "(603, 11)"
      ]
     },
     "execution_count": 20,
     "metadata": {},
     "output_type": "execute_result"
    }
   ],
   "source": [
    "transformed_data = preprocessor.transform(df.values)\n",
    "transformed_data.shape"
   ]
  },
  {
   "cell_type": "markdown",
   "id": "7accef4f-4709-4b01-b321-815b7080481d",
   "metadata": {
    "tags": []
   },
   "source": [
    "# Model Selection"
   ]
  },
  {
   "cell_type": "markdown",
   "id": "1ef79b61-0284-45b2-8df3-79ea2379fc96",
   "metadata": {
    "tags": []
   },
   "source": [
    "## KMeans"
   ]
  },
  {
   "cell_type": "code",
   "execution_count": 25,
   "id": "2bb23364-e749-44aa-83ef-594d82d527af",
   "metadata": {
    "tags": []
   },
   "outputs": [
    {
     "data": {
      "text/plain": [
       "0.15161018786201555"
      ]
     },
     "execution_count": 25,
     "metadata": {},
     "output_type": "execute_result"
    }
   ],
   "source": [
    "model = KMeans(n_clusters=8, n_init=\"auto\")\n",
    "model.fit(transformed_data)\n",
    "labels = model.predict(transformed_data)\n",
    "silhouette_score(transformed_data, labels)"
   ]
  },
  {
   "cell_type": "markdown",
   "id": "98716e72-c411-4150-aa59-a5be6ffc7f42",
   "metadata": {
    "tags": []
   },
   "source": [
    "## Agglomerative Clustering"
   ]
  },
  {
   "cell_type": "code",
   "execution_count": 29,
   "id": "94e7b383-9d32-48e0-97d8-9bc0d41000ea",
   "metadata": {
    "tags": []
   },
   "outputs": [
    {
     "data": {
      "text/plain": [
       "0.10076278748921833"
      ]
     },
     "execution_count": 29,
     "metadata": {},
     "output_type": "execute_result"
    }
   ],
   "source": [
    "model = AgglomerativeClustering(n_clusters=8)\n",
    "labels = model.fit_predict(transformed_data)\n",
    "silhouette_score(transformed_data, labels)"
   ]
  },
  {
   "cell_type": "markdown",
   "id": "41203742-d8ad-4a47-ba73-7cea1a6ea81e",
   "metadata": {
    "tags": []
   },
   "source": [
    "## Birch"
   ]
  },
  {
   "cell_type": "code",
   "execution_count": 30,
   "id": "91261e5f-30ac-43f8-aa5f-a24af0e8b516",
   "metadata": {
    "tags": []
   },
   "outputs": [
    {
     "data": {
      "text/plain": [
       "0.09712564858948314"
      ]
     },
     "execution_count": 30,
     "metadata": {},
     "output_type": "execute_result"
    }
   ],
   "source": [
    "model = Birch(n_clusters=8)\n",
    "labels = model.fit_predict(transformed_data)\n",
    "silhouette_score(transformed_data, labels)"
   ]
  },
  {
   "cell_type": "markdown",
   "id": "00c8c784-1279-4d30-9167-a6440e760b71",
   "metadata": {},
   "source": [
    "# Hyper Parameter Tuning using GridSearchCV"
   ]
  },
  {
   "cell_type": "markdown",
   "id": "b08a1384-08f1-45b9-987a-4d133fdff6ca",
   "metadata": {},
   "source": [
    "### We select KMeans based on the silhouette score"
   ]
  },
  {
   "cell_type": "code",
   "execution_count": 58,
   "id": "bc749f2d-2e9c-4ab0-a9a6-dc6b5184bd44",
   "metadata": {
    "tags": []
   },
   "outputs": [
    {
     "data": {
      "text/html": [
       "<style>#sk-container-id-12 {color: black;background-color: white;}#sk-container-id-12 pre{padding: 0;}#sk-container-id-12 div.sk-toggleable {background-color: white;}#sk-container-id-12 label.sk-toggleable__label {cursor: pointer;display: block;width: 100%;margin-bottom: 0;padding: 0.3em;box-sizing: border-box;text-align: center;}#sk-container-id-12 label.sk-toggleable__label-arrow:before {content: \"▸\";float: left;margin-right: 0.25em;color: #696969;}#sk-container-id-12 label.sk-toggleable__label-arrow:hover:before {color: black;}#sk-container-id-12 div.sk-estimator:hover label.sk-toggleable__label-arrow:before {color: black;}#sk-container-id-12 div.sk-toggleable__content {max-height: 0;max-width: 0;overflow: hidden;text-align: left;background-color: #f0f8ff;}#sk-container-id-12 div.sk-toggleable__content pre {margin: 0.2em;color: black;border-radius: 0.25em;background-color: #f0f8ff;}#sk-container-id-12 input.sk-toggleable__control:checked~div.sk-toggleable__content {max-height: 200px;max-width: 100%;overflow: auto;}#sk-container-id-12 input.sk-toggleable__control:checked~label.sk-toggleable__label-arrow:before {content: \"▾\";}#sk-container-id-12 div.sk-estimator input.sk-toggleable__control:checked~label.sk-toggleable__label {background-color: #d4ebff;}#sk-container-id-12 div.sk-label input.sk-toggleable__control:checked~label.sk-toggleable__label {background-color: #d4ebff;}#sk-container-id-12 input.sk-hidden--visually {border: 0;clip: rect(1px 1px 1px 1px);clip: rect(1px, 1px, 1px, 1px);height: 1px;margin: -1px;overflow: hidden;padding: 0;position: absolute;width: 1px;}#sk-container-id-12 div.sk-estimator {font-family: monospace;background-color: #f0f8ff;border: 1px dotted black;border-radius: 0.25em;box-sizing: border-box;margin-bottom: 0.5em;}#sk-container-id-12 div.sk-estimator:hover {background-color: #d4ebff;}#sk-container-id-12 div.sk-parallel-item::after {content: \"\";width: 100%;border-bottom: 1px solid gray;flex-grow: 1;}#sk-container-id-12 div.sk-label:hover label.sk-toggleable__label {background-color: #d4ebff;}#sk-container-id-12 div.sk-serial::before {content: \"\";position: absolute;border-left: 1px solid gray;box-sizing: border-box;top: 0;bottom: 0;left: 50%;z-index: 0;}#sk-container-id-12 div.sk-serial {display: flex;flex-direction: column;align-items: center;background-color: white;padding-right: 0.2em;padding-left: 0.2em;position: relative;}#sk-container-id-12 div.sk-item {position: relative;z-index: 1;}#sk-container-id-12 div.sk-parallel {display: flex;align-items: stretch;justify-content: center;background-color: white;position: relative;}#sk-container-id-12 div.sk-item::before, #sk-container-id-12 div.sk-parallel-item::before {content: \"\";position: absolute;border-left: 1px solid gray;box-sizing: border-box;top: 0;bottom: 0;left: 50%;z-index: -1;}#sk-container-id-12 div.sk-parallel-item {display: flex;flex-direction: column;z-index: 1;position: relative;background-color: white;}#sk-container-id-12 div.sk-parallel-item:first-child::after {align-self: flex-end;width: 50%;}#sk-container-id-12 div.sk-parallel-item:last-child::after {align-self: flex-start;width: 50%;}#sk-container-id-12 div.sk-parallel-item:only-child::after {width: 0;}#sk-container-id-12 div.sk-dashed-wrapped {border: 1px dashed gray;margin: 0 0.4em 0.5em 0.4em;box-sizing: border-box;padding-bottom: 0.4em;background-color: white;}#sk-container-id-12 div.sk-label label {font-family: monospace;font-weight: bold;display: inline-block;line-height: 1.2em;}#sk-container-id-12 div.sk-label-container {text-align: center;}#sk-container-id-12 div.sk-container {/* jupyter's `normalize.less` sets `[hidden] { display: none; }` but bootstrap.min.css set `[hidden] { display: none !important; }` so we also need the `!important` here to be able to override the default hidden behavior on the sphinx rendered scikit-learn.org. See: https://github.com/scikit-learn/scikit-learn/issues/21755 */display: inline-block !important;position: relative;}#sk-container-id-12 div.sk-text-repr-fallback {display: none;}</style><div id=\"sk-container-id-12\" class=\"sk-top-container\"><div class=\"sk-text-repr-fallback\"><pre>KMeans(algorithm=&#x27;elkan&#x27;, max_iter=600, n_clusters=10, n_init=&#x27;auto&#x27;)</pre><b>In a Jupyter environment, please rerun this cell to show the HTML representation or trust the notebook. <br />On GitHub, the HTML representation is unable to render, please try loading this page with nbviewer.org.</b></div><div class=\"sk-container\" hidden><div class=\"sk-item\"><div class=\"sk-estimator sk-toggleable\"><input class=\"sk-toggleable__control sk-hidden--visually\" id=\"sk-estimator-id-22\" type=\"checkbox\" checked><label for=\"sk-estimator-id-22\" class=\"sk-toggleable__label sk-toggleable__label-arrow\">KMeans</label><div class=\"sk-toggleable__content\"><pre>KMeans(algorithm=&#x27;elkan&#x27;, max_iter=600, n_clusters=10, n_init=&#x27;auto&#x27;)</pre></div></div></div></div></div>"
      ],
      "text/plain": [
       "KMeans(algorithm='elkan', max_iter=600, n_clusters=10, n_init='auto')"
      ]
     },
     "execution_count": 58,
     "metadata": {},
     "output_type": "execute_result"
    }
   ],
   "source": [
    "params = {\n",
    "    \"n_clusters\": list(range(10, 40, 5)),\n",
    "    \"algorithm\": [\"lloyd\", \"elkan\"],\n",
    "    \"max_iter\": list(range(300, 1000, 300)),\n",
    "    \"init\": [\"k-means++\", \"random\"],\n",
    "    \"n_init\": [\"auto\"]\n",
    "}\n",
    "\n",
    "def scorer(estimator, xtest):\n",
    "    labels = estimator.predict(transformed_data)\n",
    "    return calinski_harabasz_score(transformed_data, labels)\n",
    "\n",
    "grid_search = GridSearchCV(KMeans(n_init=\"auto\"), params, return_train_score=True, scoring=scorer)\n",
    "grid_search.fit(transformed_data)\n",
    "grid_search.best_estimator_"
   ]
  },
  {
   "cell_type": "code",
   "execution_count": 59,
   "id": "7d5451f4-e0d5-46ac-ab93-06985d6f5ec4",
   "metadata": {
    "tags": []
   },
   "outputs": [
    {
     "data": {
      "text/html": [
       "<div>\n",
       "<style scoped>\n",
       "    .dataframe tbody tr th:only-of-type {\n",
       "        vertical-align: middle;\n",
       "    }\n",
       "\n",
       "    .dataframe tbody tr th {\n",
       "        vertical-align: top;\n",
       "    }\n",
       "\n",
       "    .dataframe thead th {\n",
       "        text-align: right;\n",
       "    }\n",
       "</style>\n",
       "<table border=\"1\" class=\"dataframe\">\n",
       "  <thead>\n",
       "    <tr style=\"text-align: right;\">\n",
       "      <th></th>\n",
       "      <th>mean_fit_time</th>\n",
       "      <th>std_fit_time</th>\n",
       "      <th>mean_score_time</th>\n",
       "      <th>std_score_time</th>\n",
       "      <th>param_algorithm</th>\n",
       "      <th>param_init</th>\n",
       "      <th>param_max_iter</th>\n",
       "      <th>param_n_clusters</th>\n",
       "      <th>param_n_init</th>\n",
       "      <th>params</th>\n",
       "      <th>...</th>\n",
       "      <th>mean_test_score</th>\n",
       "      <th>std_test_score</th>\n",
       "      <th>rank_test_score</th>\n",
       "      <th>split0_train_score</th>\n",
       "      <th>split1_train_score</th>\n",
       "      <th>split2_train_score</th>\n",
       "      <th>split3_train_score</th>\n",
       "      <th>split4_train_score</th>\n",
       "      <th>mean_train_score</th>\n",
       "      <th>std_train_score</th>\n",
       "    </tr>\n",
       "  </thead>\n",
       "  <tbody>\n",
       "    <tr>\n",
       "      <th>0</th>\n",
       "      <td>0.022353</td>\n",
       "      <td>0.015460</td>\n",
       "      <td>0.004838</td>\n",
       "      <td>0.005103</td>\n",
       "      <td>lloyd</td>\n",
       "      <td>k-means++</td>\n",
       "      <td>300</td>\n",
       "      <td>10</td>\n",
       "      <td>auto</td>\n",
       "      <td>{'algorithm': 'lloyd', 'init': 'k-means++', 'm...</td>\n",
       "      <td>...</td>\n",
       "      <td>79.528411</td>\n",
       "      <td>3.131586</td>\n",
       "      <td>12</td>\n",
       "      <td>80.523947</td>\n",
       "      <td>75.447857</td>\n",
       "      <td>84.058684</td>\n",
       "      <td>76.589436</td>\n",
       "      <td>81.022128</td>\n",
       "      <td>79.528411</td>\n",
       "      <td>3.131586</td>\n",
       "    </tr>\n",
       "    <tr>\n",
       "      <th>1</th>\n",
       "      <td>0.002380</td>\n",
       "      <td>0.000157</td>\n",
       "      <td>0.000669</td>\n",
       "      <td>0.000010</td>\n",
       "      <td>lloyd</td>\n",
       "      <td>k-means++</td>\n",
       "      <td>300</td>\n",
       "      <td>15</td>\n",
       "      <td>auto</td>\n",
       "      <td>{'algorithm': 'lloyd', 'init': 'k-means++', 'm...</td>\n",
       "      <td>...</td>\n",
       "      <td>65.147851</td>\n",
       "      <td>2.776731</td>\n",
       "      <td>21</td>\n",
       "      <td>65.478941</td>\n",
       "      <td>66.397014</td>\n",
       "      <td>67.475835</td>\n",
       "      <td>59.742321</td>\n",
       "      <td>66.645145</td>\n",
       "      <td>65.147851</td>\n",
       "      <td>2.776731</td>\n",
       "    </tr>\n",
       "    <tr>\n",
       "      <th>2</th>\n",
       "      <td>0.006002</td>\n",
       "      <td>0.005984</td>\n",
       "      <td>0.000885</td>\n",
       "      <td>0.000195</td>\n",
       "      <td>lloyd</td>\n",
       "      <td>k-means++</td>\n",
       "      <td>300</td>\n",
       "      <td>20</td>\n",
       "      <td>auto</td>\n",
       "      <td>{'algorithm': 'lloyd', 'init': 'k-means++', 'm...</td>\n",
       "      <td>...</td>\n",
       "      <td>55.179347</td>\n",
       "      <td>3.195881</td>\n",
       "      <td>35</td>\n",
       "      <td>51.541154</td>\n",
       "      <td>57.488797</td>\n",
       "      <td>57.276352</td>\n",
       "      <td>51.066561</td>\n",
       "      <td>58.523869</td>\n",
       "      <td>55.179347</td>\n",
       "      <td>3.195881</td>\n",
       "    </tr>\n",
       "    <tr>\n",
       "      <th>3</th>\n",
       "      <td>0.003277</td>\n",
       "      <td>0.000184</td>\n",
       "      <td>0.000857</td>\n",
       "      <td>0.000009</td>\n",
       "      <td>lloyd</td>\n",
       "      <td>k-means++</td>\n",
       "      <td>300</td>\n",
       "      <td>25</td>\n",
       "      <td>auto</td>\n",
       "      <td>{'algorithm': 'lloyd', 'init': 'k-means++', 'm...</td>\n",
       "      <td>...</td>\n",
       "      <td>48.918606</td>\n",
       "      <td>2.349527</td>\n",
       "      <td>45</td>\n",
       "      <td>46.858293</td>\n",
       "      <td>52.246519</td>\n",
       "      <td>50.240276</td>\n",
       "      <td>45.728909</td>\n",
       "      <td>49.519036</td>\n",
       "      <td>48.918606</td>\n",
       "      <td>2.349527</td>\n",
       "    </tr>\n",
       "    <tr>\n",
       "      <th>4</th>\n",
       "      <td>0.003691</td>\n",
       "      <td>0.000194</td>\n",
       "      <td>0.000953</td>\n",
       "      <td>0.000007</td>\n",
       "      <td>lloyd</td>\n",
       "      <td>k-means++</td>\n",
       "      <td>300</td>\n",
       "      <td>30</td>\n",
       "      <td>auto</td>\n",
       "      <td>{'algorithm': 'lloyd', 'init': 'k-means++', 'm...</td>\n",
       "      <td>...</td>\n",
       "      <td>44.972362</td>\n",
       "      <td>2.321233</td>\n",
       "      <td>49</td>\n",
       "      <td>43.756172</td>\n",
       "      <td>46.780240</td>\n",
       "      <td>46.994885</td>\n",
       "      <td>40.955513</td>\n",
       "      <td>46.375002</td>\n",
       "      <td>44.972362</td>\n",
       "      <td>2.321233</td>\n",
       "    </tr>\n",
       "  </tbody>\n",
       "</table>\n",
       "<p>5 rows × 25 columns</p>\n",
       "</div>"
      ],
      "text/plain": [
       "   mean_fit_time  std_fit_time  mean_score_time  std_score_time  \\\n",
       "0       0.022353      0.015460         0.004838        0.005103   \n",
       "1       0.002380      0.000157         0.000669        0.000010   \n",
       "2       0.006002      0.005984         0.000885        0.000195   \n",
       "3       0.003277      0.000184         0.000857        0.000009   \n",
       "4       0.003691      0.000194         0.000953        0.000007   \n",
       "\n",
       "  param_algorithm param_init param_max_iter param_n_clusters param_n_init  \\\n",
       "0           lloyd  k-means++            300               10         auto   \n",
       "1           lloyd  k-means++            300               15         auto   \n",
       "2           lloyd  k-means++            300               20         auto   \n",
       "3           lloyd  k-means++            300               25         auto   \n",
       "4           lloyd  k-means++            300               30         auto   \n",
       "\n",
       "                                              params  ...  mean_test_score  \\\n",
       "0  {'algorithm': 'lloyd', 'init': 'k-means++', 'm...  ...        79.528411   \n",
       "1  {'algorithm': 'lloyd', 'init': 'k-means++', 'm...  ...        65.147851   \n",
       "2  {'algorithm': 'lloyd', 'init': 'k-means++', 'm...  ...        55.179347   \n",
       "3  {'algorithm': 'lloyd', 'init': 'k-means++', 'm...  ...        48.918606   \n",
       "4  {'algorithm': 'lloyd', 'init': 'k-means++', 'm...  ...        44.972362   \n",
       "\n",
       "   std_test_score  rank_test_score  split0_train_score  split1_train_score  \\\n",
       "0        3.131586               12           80.523947           75.447857   \n",
       "1        2.776731               21           65.478941           66.397014   \n",
       "2        3.195881               35           51.541154           57.488797   \n",
       "3        2.349527               45           46.858293           52.246519   \n",
       "4        2.321233               49           43.756172           46.780240   \n",
       "\n",
       "   split2_train_score  split3_train_score  split4_train_score  \\\n",
       "0           84.058684           76.589436           81.022128   \n",
       "1           67.475835           59.742321           66.645145   \n",
       "2           57.276352           51.066561           58.523869   \n",
       "3           50.240276           45.728909           49.519036   \n",
       "4           46.994885           40.955513           46.375002   \n",
       "\n",
       "   mean_train_score  std_train_score  \n",
       "0         79.528411         3.131586  \n",
       "1         65.147851         2.776731  \n",
       "2         55.179347         3.195881  \n",
       "3         48.918606         2.349527  \n",
       "4         44.972362         2.321233  \n",
       "\n",
       "[5 rows x 25 columns]"
      ]
     },
     "execution_count": 59,
     "metadata": {},
     "output_type": "execute_result"
    }
   ],
   "source": [
    "cv_results = pd.DataFrame(grid_search.cv_results_)\n",
    "cv_results.head()"
   ]
  },
  {
   "cell_type": "code",
   "execution_count": 60,
   "id": "75bc5e26-e3d3-4c32-84a4-cce96cbdbd84",
   "metadata": {
    "tags": []
   },
   "outputs": [
    {
     "data": {
      "text/plain": [
       "81.72129271018099"
      ]
     },
     "execution_count": 60,
     "metadata": {},
     "output_type": "execute_result"
    }
   ],
   "source": [
    "grid_search.best_score_"
   ]
  },
  {
   "cell_type": "code",
   "execution_count": null,
   "id": "4411fa6b-e0ec-4d48-b49a-36aa0cdfaf5d",
   "metadata": {},
   "outputs": [],
   "source": []
  }
 ],
 "metadata": {
  "kernelspec": {
   "display_name": "Python 3 (ipykernel)",
   "language": "python",
   "name": "python3"
  },
  "language_info": {
   "codemirror_mode": {
    "name": "ipython",
    "version": 3
   },
   "file_extension": ".py",
   "mimetype": "text/x-python",
   "name": "python",
   "nbconvert_exporter": "python",
   "pygments_lexer": "ipython3",
   "version": "3.10.10"
  }
 },
 "nbformat": 4,
 "nbformat_minor": 5
}
